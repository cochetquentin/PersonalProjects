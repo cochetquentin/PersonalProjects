{
 "cells": [
  {
   "cell_type": "code",
   "execution_count": 1,
   "metadata": {},
   "outputs": [],
   "source": [
    "from YoutubeRecommender import YoutubeRecommender"
   ]
  },
  {
   "cell_type": "code",
   "execution_count": 2,
   "metadata": {},
   "outputs": [],
   "source": [
    "client_secrets_path = \"./client_secrets/client_secret.json\"\n",
    "thumbnails_path = \"./thumbnails/\"\n",
    "model_path = \"./models/\""
   ]
  },
  {
   "cell_type": "code",
   "execution_count": 3,
   "metadata": {},
   "outputs": [
    {
     "name": "stdout",
     "output_type": "stream",
     "text": [
      "Please visit this URL to authorize this application: https://accounts.google.com/o/oauth2/auth?response_type=code&client_id=13326974913-11o14v565sms67f93s93mj39sanffbhe.apps.googleusercontent.com&redirect_uri=http%3A%2F%2Flocalhost%3A51983%2F&scope=https%3A%2F%2Fwww.googleapis.com%2Fauth%2Fyoutube.readonly&state=QcQSsRSqBmPArABTyeZYSD2ieIq5gc&access_type=offline\n"
     ]
    }
   ],
   "source": [
    "reco = YoutubeRecommender(client_secrets_path, thumbnails_path)"
   ]
  },
  {
   "cell_type": "code",
   "execution_count": 4,
   "metadata": {},
   "outputs": [
    {
     "data": {
      "application/vnd.jupyter.widget-view+json": {
       "model_id": "28229c7384654a698ac81d37f7a266b5",
       "version_major": 2,
       "version_minor": 0
      },
      "text/plain": [
       "Training:   0%|          | 0/5 [00:00<?, ?it/s]"
      ]
     },
     "metadata": {},
     "output_type": "display_data"
    },
    {
     "name": "stdout",
     "output_type": "stream",
     "text": [
      "Epoch 1/5 | Train Loss: 0.6410 | Train Score: 0.6084 | Test Loss: 0.6916 | Test Score: 0.6216\n"
     ]
    },
    {
     "data": {
      "application/vnd.jupyter.widget-view+json": {
       "model_id": "cebda98f84f34c1ea1c6e5136a197257",
       "version_major": 2,
       "version_minor": 0
      },
      "text/plain": [
       "Training:   0%|          | 0/5 [00:00<?, ?it/s]"
      ]
     },
     "metadata": {},
     "output_type": "display_data"
    },
    {
     "name": "stdout",
     "output_type": "stream",
     "text": [
      "Epoch 2/5 | Train Loss: 0.6283 | Train Score: 0.6857 | Test Loss: 0.6916 | Test Score: 0.6216\n"
     ]
    },
    {
     "data": {
      "application/vnd.jupyter.widget-view+json": {
       "model_id": "3aa8564da31746ccb41f2be1e2c32b0f",
       "version_major": 2,
       "version_minor": 0
      },
      "text/plain": [
       "Training:   0%|          | 0/5 [00:00<?, ?it/s]"
      ]
     },
     "metadata": {},
     "output_type": "display_data"
    },
    {
     "name": "stdout",
     "output_type": "stream",
     "text": [
      "Epoch 3/5 | Train Loss: 0.6279 | Train Score: 0.6857 | Test Loss: 0.6851 | Test Score: 0.6216\n"
     ]
    },
    {
     "data": {
      "application/vnd.jupyter.widget-view+json": {
       "model_id": "7f638cb5aeb047ae83556f728cef5c48",
       "version_major": 2,
       "version_minor": 0
      },
      "text/plain": [
       "Training:   0%|          | 0/5 [00:00<?, ?it/s]"
      ]
     },
     "metadata": {},
     "output_type": "display_data"
    },
    {
     "name": "stdout",
     "output_type": "stream",
     "text": [
      "Epoch 4/5 | Train Loss: 0.6177 | Train Score: 0.6857 | Test Loss: 0.6531 | Test Score: 0.6216\n"
     ]
    },
    {
     "data": {
      "application/vnd.jupyter.widget-view+json": {
       "model_id": "76746c32cfa3438698a978e70d75dd4f",
       "version_major": 2,
       "version_minor": 0
      },
      "text/plain": [
       "Training:   0%|          | 0/5 [00:00<?, ?it/s]"
      ]
     },
     "metadata": {},
     "output_type": "display_data"
    },
    {
     "name": "stdout",
     "output_type": "stream",
     "text": [
      "Epoch 5/5 | Train Loss: 0.6059 | Train Score: 0.6857 | Test Loss: 0.6461 | Test Score: 0.6216\n"
     ]
    }
   ],
   "source": [
    "reco.train_model(\n",
    "    nb_liked_videos=500,\n",
    "    nb_subs_videos=10,\n",
    "    epoch=20,\n",
    "    verbose=True,\n",
    "    numeric_model_save_path=model_path,\n",
    "    img_model_save_path=model_path,\n",
    "    text_model_save_path=model_path\n",
    ")\n",
    "\n",
    "# reco.load_model(model_path)"
   ]
  },
  {
   "cell_type": "code",
   "execution_count": 5,
   "metadata": {},
   "outputs": [
    {
     "name": "stdout",
     "output_type": "stream",
     "text": [
      "<class 'pandas.core.frame.DataFrame'>\n"
     ]
    }
   ],
   "source": [
    "reco.get_recommendations()"
   ]
  },
  {
   "cell_type": "code",
   "execution_count": 6,
   "metadata": {},
   "outputs": [
    {
     "data": {
      "text/plain": [
       "videoId\n",
       "https://www.youtube.com/watch?v=PpJkwVdVd20    0.67\n",
       "https://www.youtube.com/watch?v=q0kJI-b23zE    0.67\n",
       "https://www.youtube.com/watch?v=xi21CkvQG6E    0.66\n",
       "https://www.youtube.com/watch?v=zY2u8LUaieM    0.64\n",
       "https://www.youtube.com/watch?v=d_WjOBeLVn0    0.63\n",
       "                                               ... \n",
       "https://www.youtube.com/watch?v=VSOsX4vIsFo    0.22\n",
       "https://www.youtube.com/watch?v=vKPm6JGCXLw    0.21\n",
       "https://www.youtube.com/watch?v=tLf4CPAz8_s    0.20\n",
       "https://www.youtube.com/watch?v=xdSxZNs0n7E    0.20\n",
       "https://www.youtube.com/watch?v=Je4TH0wpgQc    0.19\n",
       "Name: 1, Length: 98, dtype: float64"
      ]
     },
     "execution_count": 6,
     "metadata": {},
     "output_type": "execute_result"
    }
   ],
   "source": [
    "reco.ranking()"
   ]
  }
 ],
 "metadata": {
  "kernelspec": {
   "display_name": "snake_yt",
   "language": "python",
   "name": "python3"
  },
  "language_info": {
   "codemirror_mode": {
    "name": "ipython",
    "version": 3
   },
   "file_extension": ".py",
   "mimetype": "text/x-python",
   "name": "python",
   "nbconvert_exporter": "python",
   "pygments_lexer": "ipython3",
   "version": "3.9.18"
  }
 },
 "nbformat": 4,
 "nbformat_minor": 2
}
